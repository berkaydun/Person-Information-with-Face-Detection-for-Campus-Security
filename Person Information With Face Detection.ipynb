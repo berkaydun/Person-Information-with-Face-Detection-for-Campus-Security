{
 "cells": [
  {
   "cell_type": "code",
   "execution_count": 4,
   "id": "b25128ec-f842-4819-93bf-69693f5d44f2",
   "metadata": {},
   "outputs": [
    {
     "name": "stdout",
     "output_type": "stream",
     "text": [
      "WARNING:tensorflow:From C:\\Users\\berka\\anaconda3\\envs\\torchcuda\\lib\\site-packages\\tf_keras\\src\\losses.py:2976: The name tf.losses.sparse_softmax_cross_entropy is deprecated. Please use tf.compat.v1.losses.sparse_softmax_cross_entropy instead.\n",
      "\n"
     ]
    }
   ],
   "source": [
    "import os\n",
    "import numpy as np\n",
    "from deepface import DeepFace\n",
    "from sklearn.model_selection import train_test_split\n",
    "from sklearn.svm import SVC\n",
    "from sklearn.metrics import accuracy_score"
   ]
  },
  {
   "cell_type": "code",
   "execution_count": 5,
   "id": "d19edc77-333d-43b5-b15f-9ba54b63f76e",
   "metadata": {},
   "outputs": [],
   "source": [
    "# Dataset folder path\n",
    "dataset_dir = r\"path\""
   ]
  },
  {
   "cell_type": "code",
   "execution_count": 6,
   "id": "6e495c4e-1caf-4666-9503-3ca6e1ec76ab",
   "metadata": {},
   "outputs": [
    {
     "name": "stdout",
     "output_type": "stream",
     "text": [
      "Veriler embed edilmeye başlıyor...\n",
      "Data is being processed for Ali Kerem Duran \n",
      "Data is being processed for Batuhan Urus \n",
      "Error: Face is not detected for C:\\face_data\\Batuhan Urus\\5.jpg or there are another problem: Face could not be detected in C:\\face_data\\Batuhan Urus\\5.jpg.Please confirm that the picture is a face photo or consider to set enforce_detection param to False.\n",
      "Data is being processed for Berkay Dundar \n",
      "Data is being processed for Furkan Yilmaz \n",
      "Error: Face is not detected for C:\\face_data\\Furkan Yilmaz\\5.jpg or there are another problem: Face could not be detected in C:\\face_data\\Furkan Yilmaz\\5.jpg.Please confirm that the picture is a face photo or consider to set enforce_detection param to False.\n",
      "Data is being processed for Galip Erbas \n",
      "Data is being processed for Mustafa Demiray \n",
      "Data is being processed for Mustafa Tasdemir \n",
      "Error: Face is not detected for C:\\face_data\\Mustafa Tasdemir\\1.jpg or there are another problem: Face could not be detected in C:\\face_data\\Mustafa Tasdemir\\1.jpg.Please confirm that the picture is a face photo or consider to set enforce_detection param to False.\n",
      "Error: Face is not detected for C:\\face_data\\Mustafa Tasdemir\\2.jpg or there are another problem: Face could not be detected in C:\\face_data\\Mustafa Tasdemir\\2.jpg.Please confirm that the picture is a face photo or consider to set enforce_detection param to False.\n",
      "Data is being processed for Naim Torlak \n",
      "Data is being processed for Omer Yayla \n",
      "Data is being processed for Tuna Cobanoglu \n",
      "Error: Face is not detected for C:\\face_data\\Tuna Cobanoglu\\2.jpg or there are another problem: Face could not be detected in C:\\face_data\\Tuna Cobanoglu\\2.jpg.Please confirm that the picture is a face photo or consider to set enforce_detection param to False.\n",
      "Data is being processed for Tuna Haksal \n",
      "Error: Face is not detected for C:\\face_data\\Tuna Haksal\\4.jpg or there are another problem: Face could not be detected in C:\\face_data\\Tuna Haksal\\4.jpg.Please confirm that the picture is a face photo or consider to set enforce_detection param to False.\n",
      "Total 65 photo is processed\n",
      "Model Accuracy: 0.69\n"
     ]
    }
   ],
   "source": [
    "\n",
    "# Embedding and tag lists\n",
    "X = []\n",
    "y = []\n",
    "\n",
    "print(\"Data embedding is starting...\")\n",
    "\n",
    "for person_name in os.listdir(dataset_dir):\n",
    "    person_folder = os.path.join(dataset_dir, person_name)\n",
    "    if not os.path.isdir(person_folder):\n",
    "        continue\n",
    "    \n",
    "    print(f\"Data is being processed for {person_name} \")\n",
    "    \n",
    "    for img_name in os.listdir(person_folder):\n",
    "        img_path = os.path.join(person_folder, img_name)\n",
    "        try:\n",
    "            # Yüz embedding çıkar\n",
    "            embedding = DeepFace.represent(img_path, model_name='Facenet')[0][\"embedding\"]\n",
    "            X.append(embedding)\n",
    "            y.append(person_name)\n",
    "        except Exception as e:\n",
    "            print(f\"Error: Face is not detected for {img_path} or there are another problem: {e}\")\n",
    "\n",
    "X = np.array(X)\n",
    "y = np.array(y)\n",
    "\n",
    "print(f\"Total {len(X)} photo is processed\")\n",
    "\n",
    "\n",
    "X_train, X_test, y_train, y_test = train_test_split(X, y, test_size=0.2, random_state=42)\n",
    "\n",
    "\n",
    "model = SVC(kernel='linear', probability=True)\n",
    "model.fit(X_train, y_train)\n",
    "\n",
    "\n",
    "y_pred = model.predict(X_test)\n",
    "print(f\"Model Accuracy: {accuracy_score(y_test, y_pred):.2f}\")"
   ]
  },
  {
   "cell_type": "code",
   "execution_count": 8,
   "id": "8da10b67-9557-4e63-a2e1-e79245705510",
   "metadata": {},
   "outputs": [
    {
     "name": "stdout",
     "output_type": "stream",
     "text": [
      "Person Full Name: Batuhan Urus\n",
      "Student Number: *********\n",
      "ID Number: ***********\n",
      "Department: Bilgisayar Mühendisliği\n",
      "Date of Birth: Unknown\n"
     ]
    }
   ],
   "source": [
    "import ast\n",
    "\n",
    "# Read dictionary data from TXT file\n",
    "def load_person_info(filepath):\n",
    "    with open(filepath, \"r\", encoding=\"utf-8\") as file:\n",
    "        data = file.read()\n",
    "        return ast.literal_eval(data) \n",
    "\n",
    "test_img = r\"D:\\deneme7.jpg\"\n",
    "\n",
    "try:\n",
    "    person_info = load_person_info(\"D:\\person_info.txt\")\n",
    "\n",
    "    # Get the embedding and make a prediction\n",
    "    embedding_test = DeepFace.represent(test_img, model_name='Facenet')[0][\"embedding\"]\n",
    "    prediction = model.predict([embedding_test])[0]\n",
    "\n",
    "    print(f\"Person Full Name: {prediction}\")\n",
    "\n",
    "    if prediction in person_info:\n",
    "        info = person_info[prediction]\n",
    "        print(f\"Student Number: {info['Student Number']}\")\n",
    "        print(f\"ID Number: {info['ID']}\")\n",
    "        print(f\"Department: {info['Department']}\")\n",
    "        print(f\"Date of Birth: {info['Date of Birth']}\")\n",
    "    else:\n",
    "        print(\"PERSON INFO NOT FOUND!\")\n",
    "\n",
    "except ValueError as e:\n",
    "    if \"Face could not be detected\" in str(e):\n",
    "        print(\"FACE NOT DETECTED!\")\n",
    "    else:\n",
    "        raise"
   ]
  },
  {
   "cell_type": "code",
   "execution_count": 3,
   "id": "0d986335-3416-4f4a-9e4d-755f6c24ff8a",
   "metadata": {},
   "outputs": [],
   "source": []
  },
  {
   "cell_type": "code",
   "execution_count": null,
   "id": "6c5e9e10-42b5-454b-8822-14a676a7e798",
   "metadata": {},
   "outputs": [],
   "source": []
  }
 ],
 "metadata": {
  "kernelspec": {
   "display_name": "Python 3 (ipykernel)",
   "language": "python",
   "name": "python3"
  },
  "language_info": {
   "codemirror_mode": {
    "name": "ipython",
    "version": 3
   },
   "file_extension": ".py",
   "mimetype": "text/x-python",
   "name": "python",
   "nbconvert_exporter": "python",
   "pygments_lexer": "ipython3",
   "version": "3.10.16"
  }
 },
 "nbformat": 4,
 "nbformat_minor": 5
}
