{
 "cells": [
  {
   "cell_type": "code",
   "execution_count": null,
   "id": "b25128ec-f842-4819-93bf-69693f5d44f2",
   "metadata": {},
   "outputs": [],
   "source": [
    "import os\n",
    "import numpy as np\n",
    "from deepface import DeepFace\n",
    "from sklearn.model_selection import train_test_split\n",
    "from sklearn.svm import SVC\n",
    "from sklearn.metrics import accuracy_score"
   ]
  },
  {
   "cell_type": "code",
   "execution_count": null,
   "id": "d19edc77-333d-43b5-b15f-9ba54b63f76e",
   "metadata": {},
   "outputs": [],
   "source": [
    "# Dataset folder path\n",
    "dataset_dir = r\"path\""
   ]
  },
  {
   "cell_type": "code",
   "execution_count": null,
   "id": "6e495c4e-1caf-4666-9503-3ca6e1ec76ab",
   "metadata": {},
   "outputs": [],
   "source": [
    "\n",
    "# Embedding and tag lists\n",
    "X = []\n",
    "y = []\n",
    "\n",
    "print(\"Data embedding is starting...\")\n",
    "\n",
    "for person_name in os.listdir(dataset_dir):\n",
    "    person_folder = os.path.join(dataset_dir, person_name)\n",
    "    if not os.path.isdir(person_folder):\n",
    "        continue\n",
    "    \n",
    "    print(f\"Data is being processed for {person_name} \")\n",
    "    \n",
    "    for img_name in os.listdir(person_folder):\n",
    "        img_path = os.path.join(person_folder, img_name)\n",
    "        try:\n",
    "            # Extract face embedding\n",
    "            embedding = DeepFace.represent(img_path, model_name='Facenet')[0][\"embedding\"]\n",
    "            X.append(embedding)\n",
    "            y.append(person_name)\n",
    "        except Exception as e:\n",
    "            print(f\"Error: Face is not detected for {img_path} or there are another problem: {e}\")\n",
    "\n",
    "X = np.array(X)\n",
    "y = np.array(y)\n",
    "\n",
    "print(f\"Total {len(X)} photo is processed\")\n",
    "\n",
    "\n",
    "X_train, X_test, y_train, y_test = train_test_split(X, y, test_size=0.2, random_state=42)\n",
    "\n",
    "\n",
    "model = SVC(kernel='linear', probability=True)\n",
    "model.fit(X_train, y_train)\n",
    "\n",
    "\n",
    "y_pred = model.predict(X_test)\n",
    "print(f\"Model Accuracy: {accuracy_score(y_test, y_pred):.2f}\")"
   ]
  },
  {
   "cell_type": "code",
   "execution_count": null,
   "id": "8da10b67-9557-4e63-a2e1-e79245705510",
   "metadata": {},
   "outputs": [],
   "source": [
    "import ast\n",
    "\n",
    "# Read dictionary data from TXT file\n",
    "def load_person_info(filepath):\n",
    "    with open(filepath, \"r\", encoding=\"utf-8\") as file:\n",
    "        data = file.read()\n",
    "        return ast.literal_eval(data) \n",
    "\n",
    "test_img = r\"D:\\deneme7.jpg\"\n",
    "\n",
    "try:\n",
    "    person_info = load_person_info(\"D:\\person_info.txt\")\n",
    "\n",
    "    # Get the embedding and make a prediction\n",
    "    embedding_test = DeepFace.represent(test_img, model_name='Facenet')[0][\"embedding\"]\n",
    "    prediction = model.predict([embedding_test])[0]\n",
    "\n",
    "    print(f\"Person Full Name: {prediction}\")\n",
    "\n",
    "    if prediction in person_info:\n",
    "        info = person_info[prediction]\n",
    "        print(f\"Student Number: {info['Student Number']}\")\n",
    "        print(f\"ID Number: {info['ID']}\")\n",
    "        print(f\"Department: {info['Department']}\")\n",
    "        print(f\"Date of Birth: {info['Date of Birth']}\")\n",
    "    else:\n",
    "        print(\"PERSON INFO NOT FOUND!\")\n",
    "\n",
    "except ValueError as e:\n",
    "    if \"Face could not be detected\" in str(e):\n",
    "        print(\"FACE NOT DETECTED!\")\n",
    "    else:\n",
    "        raise"
   ]
  },
  {
   "cell_type": "code",
   "execution_count": null,
   "id": "0d986335-3416-4f4a-9e4d-755f6c24ff8a",
   "metadata": {},
   "outputs": [],
   "source": []
  },
  {
   "cell_type": "code",
   "execution_count": null,
   "id": "6c5e9e10-42b5-454b-8822-14a676a7e798",
   "metadata": {},
   "outputs": [],
   "source": []
  }
 ],
 "metadata": {
  "kernelspec": {
   "display_name": "Python 3 (ipykernel)",
   "language": "python",
   "name": "python3"
  },
  "language_info": {
   "codemirror_mode": {
    "name": "ipython",
    "version": 3
   },
   "file_extension": ".py",
   "mimetype": "text/x-python",
   "name": "python",
   "nbconvert_exporter": "python",
   "pygments_lexer": "ipython3",
   "version": "3.10.16"
  }
 },
 "nbformat": 4,
 "nbformat_minor": 5
}
